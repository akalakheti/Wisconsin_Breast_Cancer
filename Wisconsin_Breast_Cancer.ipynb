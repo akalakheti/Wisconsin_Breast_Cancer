{
  "nbformat": 4,
  "nbformat_minor": 0,
  "metadata": {
    "colab": {
      "name": "Wisconsin_Breast_Cancer.ipynb",
      "provenance": [],
      "collapsed_sections": [],
      "include_colab_link": true
    },
    "kernelspec": {
      "name": "python3",
      "display_name": "Python 3"
    },
    "accelerator": "GPU"
  },
  "cells": [
    {
      "cell_type": "markdown",
      "metadata": {
        "id": "view-in-github",
        "colab_type": "text"
      },
      "source": [
        "<a href=\"https://colab.research.google.com/github/akalakheti/Wisconsin_Breast_Cancer/blob/master/Wisconsin_Breast_Cancer.ipynb\" target=\"_parent\"><img src=\"https://colab.research.google.com/assets/colab-badge.svg\" alt=\"Open In Colab\"/></a>"
      ]
    },
    {
      "cell_type": "code",
      "metadata": {
        "id": "qPkJzT-ykltQ",
        "colab_type": "code",
        "colab": {}
      },
      "source": [
        "!pip install tensorflow-gpu==2.0.0"
      ],
      "execution_count": 0,
      "outputs": []
    },
    {
      "cell_type": "markdown",
      "metadata": {
        "id": "R6LIEra9EFeo",
        "colab_type": "text"
      },
      "source": [
        "# Import all the dependencies required"
      ]
    },
    {
      "cell_type": "code",
      "metadata": {
        "id": "2Q-SmZh-lVLy",
        "colab_type": "code",
        "colab": {}
      },
      "source": [
        "import tensorflow as tf\n",
        "import numpy as np\n",
        "from sklearn import datasets \n",
        "from tensorflow.keras import layers\n",
        "import matplotlib.pyplot as plt\n"
      ],
      "execution_count": 0,
      "outputs": []
    },
    {
      "cell_type": "markdown",
      "metadata": {
        "id": "tqqmoPWHJK_A",
        "colab_type": "text"
      },
      "source": [
        "# Problem\n",
        "Breast cancer is the deadliest cancer among women. According to Cancer.net statistics, This year, an estimated 268,600 women in the United States will be diagnosed with invasive breast cancer. It is estimated that 42,260 deaths (41,760 women and 500 men) from breast cancer will occur this year.\n",
        "This high mortality rate of breast cancer is due to lack of early attention. If it can be diagnosed early, then a lot of lives could be saved. So, here I will be developing a Machine Learning based Breast Cancer detection that will be a binary classifier."
      ]
    },
    {
      "cell_type": "markdown",
      "metadata": {
        "id": "1uKLyNGCLGTv",
        "colab_type": "text"
      },
      "source": [
        "# Dataset used\n",
        "Here, we will be using the Wisconsin breast cancer dataset from UCI (https://archive.ics.uci.edu/ml/datasets/Breast+Cancer+Wisconsin+(Diagnostic)) which contains 30 parameters like radius,texture,symmetry,etc. and a total of 569 data examples. This dataset contains 357 malignant and 212 benign cases. To prevent biasness, we will be randomly choosing examples for train and test data."
      ]
    },
    {
      "cell_type": "code",
      "metadata": {
        "id": "Vwc3DdI1mxbM",
        "colab_type": "code",
        "colab": {}
      },
      "source": [
        "dataset = datasets.load_breast_cancer()"
      ],
      "execution_count": 0,
      "outputs": []
    },
    {
      "cell_type": "markdown",
      "metadata": {
        "id": "TqHqc-vzE2mD",
        "colab_type": "text"
      },
      "source": [
        "Separating data and label"
      ]
    },
    {
      "cell_type": "code",
      "metadata": {
        "id": "hg0tu6k6nh_C",
        "colab_type": "code",
        "colab": {}
      },
      "source": [
        "data, label = dataset.data, dataset.target"
      ],
      "execution_count": 0,
      "outputs": []
    },
    {
      "cell_type": "markdown",
      "metadata": {
        "id": "Ynf-IKmQE6X5",
        "colab_type": "text"
      },
      "source": [
        "Creating random index for train and test dataset using numpy. 80% of the total data will be used as training set and rest will be used as test set."
      ]
    },
    {
      "cell_type": "code",
      "metadata": {
        "id": "HwJXhP53nvXp",
        "colab_type": "code",
        "colab": {}
      },
      "source": [
        "train_i = np.random.choice(len(label), round(len(label) * 0.8), replace=False)\n",
        "test_i = np.array(list(set(range(len(label)))-set(train_i)))"
      ],
      "execution_count": 0,
      "outputs": []
    },
    {
      "cell_type": "code",
      "metadata": {
        "id": "r_8qIcThqV88",
        "colab_type": "code",
        "colab": {}
      },
      "source": [
        "train_data= data[train_i]\n",
        "test_data = data[test_i]\n",
        "train_target = label[train_i]\n",
        "test_target = label[test_i]"
      ],
      "execution_count": 0,
      "outputs": []
    },
    {
      "cell_type": "code",
      "metadata": {
        "id": "8vjlUs8QR1fv",
        "colab_type": "code",
        "colab": {}
      },
      "source": [
        "temp = list(test_target)\n",
        "target = []\n",
        "for i in range (len(temp)):\n",
        "  target.append([temp[i]])"
      ],
      "execution_count": 0,
      "outputs": []
    },
    {
      "cell_type": "markdown",
      "metadata": {
        "id": "pPr2QC7bOx5m",
        "colab_type": "text"
      },
      "source": [
        "# Strategy Used"
      ]
    },
    {
      "cell_type": "markdown",
      "metadata": {
        "id": "fC2KFk0XFGIR",
        "colab_type": "text"
      },
      "source": [
        "To tackle this binary classification problem, we will be using a fully connected neural network. We will be using this algorithm to provide non-linear solution to the data. Having a lot of parameters, I found Fully Connected Neural Network would be a better option.  It has an input shape of 30, with 2 hidden layers containing 120 and 60 nodes respectively. The output layer contains only one node as this is a binary classification. ReLu is used as activation function for hidden layers where as sigmoid activation function is used for output layer as sigmoid provides better result for output."
      ]
    },
    {
      "cell_type": "code",
      "metadata": {
        "id": "zdxPN1iSqZEh",
        "colab_type": "code",
        "colab": {}
      },
      "source": [
        "model = tf.keras.Sequential([\n",
        "                             layers.Dense(30, activation='relu'),\n",
        "                             layers.Dense(120, activation='relu'),\n",
        "                             \n",
        "                             layers.Dense(60, activation='relu'),\n",
        "                             layers.Dense(1, activation='sigmoid')\n",
        "                             ])"
      ],
      "execution_count": 0,
      "outputs": []
    },
    {
      "cell_type": "markdown",
      "metadata": {
        "id": "YKFQaQiNF0Gp",
        "colab_type": "text"
      },
      "source": [
        "Compiling and training the model with adam optimizer and binary cross entropy loss function."
      ]
    },
    {
      "cell_type": "code",
      "metadata": {
        "id": "kpGraDNWDDvs",
        "colab_type": "code",
        "colab": {}
      },
      "source": [
        "model.compile(optimizer='adam',\n",
        "              loss='binary_crossentropy',\n",
        "              metrics=['accuracy'])"
      ],
      "execution_count": 0,
      "outputs": []
    },
    {
      "cell_type": "code",
      "metadata": {
        "id": "Lyzt4dGIDJrS",
        "colab_type": "code",
        "outputId": "27fced7e-665f-48ba-9b6a-b6f924adb475",
        "colab": {
          "base_uri": "https://localhost:8080/",
          "height": 1000
        }
      },
      "source": [
        "history = model.fit(train_data, train_target, epochs=30, batch_size=1, validation_data=(test_data, test_target))"
      ],
      "execution_count": 0,
      "outputs": [
        {
          "output_type": "stream",
          "text": [
            "Train on 455 samples, validate on 114 samples\n",
            "Epoch 1/30\n",
            "455/455 [==============================] - 2s 4ms/sample - loss: 0.2227 - accuracy: 0.9231 - val_loss: 0.1760 - val_accuracy: 0.9474\n",
            "Epoch 2/30\n",
            "455/455 [==============================] - 2s 4ms/sample - loss: 0.1933 - accuracy: 0.9297 - val_loss: 0.3463 - val_accuracy: 0.8421\n",
            "Epoch 3/30\n",
            "455/455 [==============================] - 2s 4ms/sample - loss: 0.1795 - accuracy: 0.9187 - val_loss: 0.3830 - val_accuracy: 0.8860\n",
            "Epoch 4/30\n",
            "455/455 [==============================] - 2s 4ms/sample - loss: 0.1816 - accuracy: 0.9143 - val_loss: 0.2061 - val_accuracy: 0.9298\n",
            "Epoch 5/30\n",
            "455/455 [==============================] - 2s 4ms/sample - loss: 0.2596 - accuracy: 0.9099 - val_loss: 0.2587 - val_accuracy: 0.9035\n",
            "Epoch 6/30\n",
            "455/455 [==============================] - 2s 4ms/sample - loss: 0.2153 - accuracy: 0.9143 - val_loss: 0.1899 - val_accuracy: 0.9298\n",
            "Epoch 7/30\n",
            "455/455 [==============================] - 2s 4ms/sample - loss: 0.2205 - accuracy: 0.9319 - val_loss: 0.2090 - val_accuracy: 0.9211\n",
            "Epoch 8/30\n",
            "455/455 [==============================] - 2s 4ms/sample - loss: 0.1973 - accuracy: 0.9077 - val_loss: 0.3832 - val_accuracy: 0.8772\n",
            "Epoch 9/30\n",
            "455/455 [==============================] - 2s 4ms/sample - loss: 0.4245 - accuracy: 0.8967 - val_loss: 0.2078 - val_accuracy: 0.9386\n",
            "Epoch 10/30\n",
            "455/455 [==============================] - 2s 4ms/sample - loss: 0.1899 - accuracy: 0.9165 - val_loss: 0.2469 - val_accuracy: 0.9123\n",
            "Epoch 11/30\n",
            "455/455 [==============================] - 2s 4ms/sample - loss: 0.1821 - accuracy: 0.9143 - val_loss: 0.1741 - val_accuracy: 0.9386\n",
            "Epoch 12/30\n",
            "455/455 [==============================] - 2s 4ms/sample - loss: 0.1579 - accuracy: 0.9341 - val_loss: 0.1654 - val_accuracy: 0.9474\n",
            "Epoch 13/30\n",
            "455/455 [==============================] - 2s 4ms/sample - loss: 0.1791 - accuracy: 0.9297 - val_loss: 0.2071 - val_accuracy: 0.9386\n",
            "Epoch 14/30\n",
            "455/455 [==============================] - 2s 4ms/sample - loss: 0.1835 - accuracy: 0.9231 - val_loss: 0.1923 - val_accuracy: 0.9035\n",
            "Epoch 15/30\n",
            "455/455 [==============================] - 2s 4ms/sample - loss: 0.1792 - accuracy: 0.9231 - val_loss: 0.1562 - val_accuracy: 0.9561\n",
            "Epoch 16/30\n",
            "455/455 [==============================] - 2s 4ms/sample - loss: 0.1648 - accuracy: 0.9253 - val_loss: 0.1837 - val_accuracy: 0.9386\n",
            "Epoch 17/30\n",
            "455/455 [==============================] - 2s 4ms/sample - loss: 0.1701 - accuracy: 0.9297 - val_loss: 0.1711 - val_accuracy: 0.9035\n",
            "Epoch 18/30\n",
            "455/455 [==============================] - 2s 4ms/sample - loss: 0.1887 - accuracy: 0.9187 - val_loss: 0.4310 - val_accuracy: 0.8509\n",
            "Epoch 19/30\n",
            "455/455 [==============================] - 2s 4ms/sample - loss: 0.2185 - accuracy: 0.9143 - val_loss: 0.2532 - val_accuracy: 0.9123\n",
            "Epoch 20/30\n",
            "455/455 [==============================] - 2s 4ms/sample - loss: 0.2261 - accuracy: 0.9121 - val_loss: 0.1942 - val_accuracy: 0.9386\n",
            "Epoch 21/30\n",
            "455/455 [==============================] - 2s 4ms/sample - loss: 0.1862 - accuracy: 0.9121 - val_loss: 0.1844 - val_accuracy: 0.9298\n",
            "Epoch 22/30\n",
            "455/455 [==============================] - 2s 4ms/sample - loss: 0.1809 - accuracy: 0.9231 - val_loss: 0.1673 - val_accuracy: 0.9561\n",
            "Epoch 23/30\n",
            "455/455 [==============================] - 2s 4ms/sample - loss: 0.1669 - accuracy: 0.9297 - val_loss: 0.3133 - val_accuracy: 0.8947\n",
            "Epoch 24/30\n",
            "455/455 [==============================] - 2s 4ms/sample - loss: 0.2246 - accuracy: 0.9121 - val_loss: 0.3932 - val_accuracy: 0.8246\n",
            "Epoch 25/30\n",
            "455/455 [==============================] - 2s 4ms/sample - loss: 0.2409 - accuracy: 0.9011 - val_loss: 0.1973 - val_accuracy: 0.9386\n",
            "Epoch 26/30\n",
            "455/455 [==============================] - 2s 4ms/sample - loss: 0.1753 - accuracy: 0.9275 - val_loss: 0.1824 - val_accuracy: 0.9386\n",
            "Epoch 27/30\n",
            "455/455 [==============================] - 2s 4ms/sample - loss: 0.1702 - accuracy: 0.9209 - val_loss: 0.1546 - val_accuracy: 0.9561\n",
            "Epoch 28/30\n",
            "455/455 [==============================] - 2s 4ms/sample - loss: 0.1661 - accuracy: 0.9253 - val_loss: 0.1866 - val_accuracy: 0.9386\n",
            "Epoch 29/30\n",
            "455/455 [==============================] - 2s 4ms/sample - loss: 0.1593 - accuracy: 0.9209 - val_loss: 0.2694 - val_accuracy: 0.9298\n",
            "Epoch 30/30\n",
            "455/455 [==============================] - 2s 4ms/sample - loss: 0.1808 - accuracy: 0.9275 - val_loss: 0.1471 - val_accuracy: 0.9561\n"
          ],
          "name": "stdout"
        }
      ]
    },
    {
      "cell_type": "markdown",
      "metadata": {
        "id": "bHMeAhAyWr6U",
        "colab_type": "text"
      },
      "source": [
        "# Evaluating the model"
      ]
    },
    {
      "cell_type": "code",
      "metadata": {
        "id": "FIwcuL8wDyrb",
        "colab_type": "code",
        "outputId": "66b936b1-37c4-4e20-d730-386f4153db57",
        "colab": {
          "base_uri": "https://localhost:8080/",
          "height": 54
        }
      },
      "source": [
        "test_loss, test_acc = model.evaluate(test_data,  test_target)"
      ],
      "execution_count": 0,
      "outputs": [
        {
          "output_type": "stream",
          "text": [
            "\r114/1 [============================================================================================================================================================================================================================================================================================================================================================================================================================================================================================================================================================================================================================================================================================================================================================================================================================================================================================================================================================================================================================================================================================================================================================================================================================================================================================================================================================================================================================================================================================================================================================================================================================================================================================================================================================================================================================================================================================================================================================================================================================================================================================================================================================================================================================================================================================================================================================================================================================================================================================================================================================================================================================================================================================================================================================================================================================================================================================================================================================================================================================================================================================================================================================================================================================================================================================================================================================================================================================================================================================================================================================] - 0s 109us/sample - loss: 0.1951 - accuracy: 0.9561\n"
          ],
          "name": "stdout"
        }
      ]
    },
    {
      "cell_type": "code",
      "metadata": {
        "id": "6sZy_XJ3D9WS",
        "colab_type": "code",
        "outputId": "d84128fc-8ef7-4996-e089-cb537ad9f682",
        "colab": {
          "base_uri": "https://localhost:8080/",
          "height": 34
        }
      },
      "source": [
        "test_acc"
      ],
      "execution_count": 0,
      "outputs": [
        {
          "output_type": "execute_result",
          "data": {
            "text/plain": [
              "0.95614034"
            ]
          },
          "metadata": {
            "tags": []
          },
          "execution_count": 34
        }
      ]
    },
    {
      "cell_type": "code",
      "metadata": {
        "id": "n-c0uoF5QbwO",
        "colab_type": "code",
        "colab": {}
      },
      "source": [
        "pred = model.predict(test_data)"
      ],
      "execution_count": 0,
      "outputs": []
    },
    {
      "cell_type": "code",
      "metadata": {
        "id": "eqF7jvuqQj3l",
        "colab_type": "code",
        "outputId": "0f722f58-d4b0-465c-bccb-5cb290b30b32",
        "colab": {
          "base_uri": "https://localhost:8080/",
          "height": 34
        }
      },
      "source": [
        "recall = tf.keras.metrics.Recall()\n",
        "recall.update_state(target, pred)\n",
        "recall.result().numpy()"
      ],
      "execution_count": 0,
      "outputs": [
        {
          "output_type": "execute_result",
          "data": {
            "text/plain": [
              "0.9726027"
            ]
          },
          "metadata": {
            "tags": []
          },
          "execution_count": 36
        }
      ]
    },
    {
      "cell_type": "code",
      "metadata": {
        "id": "-ddj9UNAS3ok",
        "colab_type": "code",
        "outputId": "7e9bcc28-29dd-4523-f837-96b691d69189",
        "colab": {
          "base_uri": "https://localhost:8080/",
          "height": 34
        }
      },
      "source": [
        "precision = tf.keras.metrics.Precision()\n",
        "precision.update_state(target,pred)\n",
        "precision.result().numpy()"
      ],
      "execution_count": 0,
      "outputs": [
        {
          "output_type": "execute_result",
          "data": {
            "text/plain": [
              "0.9594595"
            ]
          },
          "metadata": {
            "tags": []
          },
          "execution_count": 37
        }
      ]
    },
    {
      "cell_type": "markdown",
      "metadata": {
        "id": "vEXGbNyQWmVV",
        "colab_type": "text"
      },
      "source": [
        "# Visualizing model's performance"
      ]
    },
    {
      "cell_type": "code",
      "metadata": {
        "id": "Jq_kfqKiTEiz",
        "colab_type": "code",
        "outputId": "697eb171-5b71-4d24-fa26-053c7cdc2f94",
        "colab": {
          "base_uri": "https://localhost:8080/",
          "height": 295
        }
      },
      "source": [
        "\n",
        "loss_train = history.history['loss']\n",
        "accuracy_train = history.history['accuracy']\n",
        "\n",
        "loss_val = history.history['val_loss']\n",
        "accuracy_val = history.history['val_accuracy']\n",
        "\n",
        "epochs = range(1,31)\n",
        "plt.plot(epochs, loss_train, 'g', label='Training loss')\n",
        "plt.plot(epochs, loss_val, 'b', label='validation loss')\n",
        "plt.plot(epochs, accuracy_train, 'r', label='Training accuracy')\n",
        "plt.plot(epochs, accuracy_val, 'y', label='validation accuracy')\n",
        "plt.title('Training and Validation Results')\n",
        "plt.xlabel('Epochs')\n",
        "plt.ylabel('Loss And Accuracy')\n",
        "plt.legend()\n",
        "plt.show()"
      ],
      "execution_count": 0,
      "outputs": [
        {
          "output_type": "display_data",
          "data": {
            "image/png": "[encoded data removed]",
            "text/plain": [
              "<Figure size 432x288 with 1 Axes>"
            ]
          },
          "metadata": {
            "tags": []
          }
        }
      ]
    },
    {
      "cell_type": "markdown",
      "metadata": {
        "id": "-TAVCUpVGFfa",
        "colab_type": "text"
      },
      "source": [
        "#Conclusion:\n",
        "The training accuracy oscilates aroud 90-93% and validation accuracy is found to be 95.61%. The test accuracy is also 95.61%. The precision and recall on the test data was found to be 0.9594 and 0.9726 respectively.  This proves that the model is good and is not overfitted. The results are promising. Hence, we could use this classification model for further works."
      ]
    },
    {
      "cell_type": "code",
      "metadata": {
        "id": "axSiR2btVk6s",
        "colab_type": "code",
        "colab": {}
      },
      "source": [
        ""
      ],
      "execution_count": 0,
      "outputs": []
    }
  ]
}